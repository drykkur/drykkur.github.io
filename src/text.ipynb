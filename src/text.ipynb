{
 "cells": [
  {
   "attachments": {},
   "cell_type": "markdown",
   "metadata": {},
   "source": [
    "# Traffic collisions in NYC"
   ]
  },
  {
   "attachments": {},
   "cell_type": "markdown",
   "metadata": {},
   "source": [
    "New York City is one of the busiest cities in the world, with millions of residents and visitors relying on its extensive network of roads and highways to go about their daily lives. With so many vehicles on the roads, accidents are an unevitable but much too common occurrence. These accidents can have serious consequences, ranging from property damage to severe injuries and sadly also fatalities.\n",
    "Data can be a powerful tool for understanding and addressing the patterns of these collisions, and we are going to be analyzing a dataset about [Motor Vehicle Collisions in NYC](https://data.cityofnewyork.us/Public-Safety/Motor-Vehicle-Collisions-Crashes/h9gi-nx95), to identify patterns and trends that could help prevent future accidents and improve road safety. This dataset contains extensive information about the circumstances surrounding the collisions, including the locations and times of incidents and also the contributing factors and types of vehicles involved.\n",
    "This extensive dataset allows us to uncover insights such as seasonal and geographical trends. Additionally, we can make recommendations such as the safest places to drive and whether or not improvements have been made over the years.\n",
    "So follow along as we uncover the story behind trafic collisions in NYC, and try to work towards a safer transportation system for the city."
   ]
  },
  {
   "attachments": {},
   "cell_type": "markdown",
   "metadata": {},
   "source": [
    "### Exploring NYC vehicle collisions and their consequences"
   ]
  },
  {
   "attachments": {},
   "cell_type": "markdown",
   "metadata": {},
   "source": [
    "New York City hosts almost 9 million residents, making it one of the most populated cities in the world. The city consists of five main boroughs, including Brooklyn, Queens, Manhattan, Bronx and Staten Island. 1,371,448 vehicle collisions have been recorded in the city since 2013 in all of the five districts. \n",
    "It is relevant to investigate, where these collisions happen, and to do this we created three different maps where each borough is outlined along with either the number of collisions, injuries or fatalities. These maps are interactive, so the numbers can be seen by hovering over each of the districs."
   ]
  },
  {
   "attachments": {},
   "cell_type": "markdown",
   "metadata": {},
   "source": [
    "                 Image 'Map plot, occurences'"
   ]
  },
  {
   "attachments": {},
   "cell_type": "markdown",
   "metadata": {},
   "source": [
    "The first map plot shows the number of collisions. The darker the area is, the more collisions are happening, and as we saw before, most of the incidents happen in Brooklyn. However, Brooklyn, Bronx, Queens and Manhattan are all quite similar in color, and the only real outlier is Staten Island. This shows that Staten Island is experiencing far fewer collisions than the other forur boroughs. The reasons for this will be discussed in further detail later.\n",
    "\n",
    "Now let's compare this to the map plot below, which shows the number of injuries that result from these collisions."
   ]
  },
  {
   "attachments": {},
   "cell_type": "markdown",
   "metadata": {},
   "source": [
    "                 Image 'Map plot, injuries'"
   ]
  },
  {
   "attachments": {},
   "cell_type": "markdown",
   "metadata": {},
   "source": [
    "From this plot we see that the color differences are a bit bigger, indicating that there is a larger difference in the number of injuries between the different boroughs. This is especially the case for Bronx/Manhattan and Brooklyn/Queens. Notice also how the geographical location makes boroughs more prone to have similar numbers of incidents.\n",
    "\n",
    "Let's see if this is also the case for the number of fatalities in the next plot."
   ]
  },
  {
   "attachments": {},
   "cell_type": "markdown",
   "metadata": {},
   "source": [
    "                 Image 'Map plot, fatalities'"
   ]
  },
  {
   "attachments": {},
   "cell_type": "markdown",
   "metadata": {},
   "source": [
    "We immediately notice that the color difference has become smaller, meaning that the difference between the different boroughs has become smaller. But is this because the number of fatalities in Staten Island is higher or because the number of fatalities in the other boroughs are lower?"
   ]
  },
  {
   "attachments": {},
   "cell_type": "markdown",
   "metadata": {},
   "source": [
    "So far, we have investigated the differences between the boroughs in total numbers. However, we have not taken into account that they all have very different numbers of residents. Many vehicle collisions might just be a result of a high populations and not necessarily anything that can be improved, so let's have a look at the numbers.\n",
    "\n",
    "Brooklyn, with 31.22% of NYC residents, is the borough with most people living there. On the contrary, only \n",
    "5.64% of New Yorkers live in Staten Island. The rest of the boroughs are in between, Queens with 26.91%, Manhattan with 19.01% and Bronx with 17.22%.\n",
    "\n",
    "Why is this interesting? To answer that question, let's have a look at the plot below. This plot shows the percentage of total collisions, injuries and fatalities in each of the five boroughs in NYC. The blue line is used for reference, and shows the percentage of the population living in each of the boroughs."
   ]
  },
  {
   "attachments": {},
   "cell_type": "markdown",
   "metadata": {},
   "source": [
    "                 Image 'percent of total incidents by borough'"
   ]
  },
  {
   "attachments": {},
   "cell_type": "markdown",
   "metadata": {},
   "source": [
    "From the plot above, we see multiple interesting things. First of all, Brooklyn seems to be highly exposed to serious consequences following a collision, as the number of fatalities and especially injuries is very high. It is by far the borough that is most prone to injuries, as 36.09% of those are happening here. \n",
    "Brooklyn is closely followed by Queens, which is sadly overrepresented in fatalities when comparing to the number of collisions and injuries. \n",
    "Moving on to Manhattan we see a different trend, where the injury- and fatality percent is lower compared to the number of residents. However, in this borough we see by far the highest number of collisions compared to the number of residents. \n",
    "Bronx and Queens are both less prone to collisions, injuries and fatalities compared to the other boroughs.  \n",
    "\n",
    "When interpreting these results, we should consider the types of accidents that each of the boroughs are prone to as a result of the circumstances surrounding them.\n",
    "We see that there is certainly a clear overrepresentation of fatalities in the two boroughs Brooklyn and Queens. In addition to having the most residents, both boroughs have a higher number of major roads, such as highways. This likely means that accidents happen at higher speeds, which can increase the likelihood of severe accidents. The opposite may apply to Manhattan, where the roads are generally much smaller and the amount of traffic is so heavy that going at high speed is almost impossible. The high number of vehicles might be the cause of the many collisions, while the slow speed can be why fewer of them result in injuries and fatalities."
   ]
  },
  {
   "attachments": {},
   "cell_type": "markdown",
   "metadata": {},
   "source": [
    "### Do we see a trend over time?"
   ]
  },
  {
   "attachments": {},
   "cell_type": "markdown",
   "metadata": {},
   "source": [
    "NYC is continuously working on improving the road safety for pedestrians and drivers in the city. One example of this is [Automated Enforcement](https://www.nyc.gov/content/visionzero/pages/automated-enforcement), where cameras are being installed to catch people crossing red lights and people going more than 10mph over the speed limit in certain zones. The question is, however, do these precautions result in fewer and/or less severe vehicle collisions? And are some boroughs progressing better than the others?  \n",
    "The plots below show the total number of collisions, injuries and fatalities in each of the different boroughs in the years 2012-2022."
   ]
  },
  {
   "attachments": {},
   "cell_type": "markdown",
   "metadata": {},
   "source": [
    "                 Image 'N. collisions per year by borough'"
   ]
  },
  {
   "attachments": {},
   "cell_type": "markdown",
   "metadata": {},
   "source": [
    "From the plot above we see the number of collisions for each borough per year.  First of all, we see how the distribution confirms what we say previously, that Brooklyn has the most collisions and Staten Island has the least. \n",
    "One thing that really stands out in all of these plots, is the afct that the number of collisions drop drastically in the year 2020 for all boroughs. Not surprising, this is the effect of the Covid19 pandemic, where the roads were left near empty in a long period of time. What is more surprising is the fact that the number of collisions is kept low in the years following the lockdown. A possible explanation for this is that a lot of people were working from home and did not need to commute to work, and also that there were very few tourists in the city in the following years.\n",
    "\n",
    "Another thing to notice is that Manhattan was successful in lowering the number of collissions by a good amount in the years 2015-2019. Possibly, this is a result of the [Vision Zero Pedestrian Safety Action Plan](https://www.nyc.gov/html/dot/downloads/pdf/ped-safety-action-plan-manhattan.pdf), which contains a detailed analysis of the high-risk areas and plans for improvement.\n",
    "\n",
    "So how do these trends compare to the number of injuries? Let's have a look at that below."
   ]
  },
  {
   "attachments": {},
   "cell_type": "markdown",
   "metadata": {},
   "source": [
    "                 Image 'N. people injured per year by borough'"
   ]
  },
  {
   "attachments": {},
   "cell_type": "markdown",
   "metadata": {},
   "source": [
    "This plot surprisingly shows a different trend. We still see a sudden decrease in 2020 for all boroughs, however the number quickly bounce back to the same level as before Covid for most of them. This indicates that even though there are now fewer collisions, they have become more severe so more people are getting injured. Sadly, as we are about to see on the next plot, this is also the case for the number of fatalities. "
   ]
  },
  {
   "attachments": {},
   "cell_type": "markdown",
   "metadata": {},
   "source": [
    "                 Image 'N. people killed per year by borough'"
   ]
  },
  {
   "attachments": {},
   "cell_type": "markdown",
   "metadata": {},
   "source": [
    "From the plot above we see that the number of people getting killed as a result of vehicle collisions has not gotten lower over the years. If anything, we are seing an upward trend especially in Brooklyn and Bronx. The reson for this should most likely also be found in the Covid19 Pandemic. Based on [this article](https://www.nytimes.com/2021/01/01/nyregion/nyc-traffic-deaths.html), it seems that many people, including young and inexperienced drivers, turned to the roads for a feeling of freedom. This, combined in an increase in drug- and alcohol abuse is likely to have caused the sudden increase."
   ]
  },
  {
   "attachments": {},
   "cell_type": "markdown",
   "metadata": {},
   "source": [
    "Now, let's take a deeper look into how vehicle collisions and its consequenses have occured over time. For this, we have chosen to include calendar plots, that can be seen below.\n",
    "\n",
    "The first one indicates the number of collisions each day of every year, and makes it easy to interpret which periods or days experience more collisions."
   ]
  },
  {
   "attachments": {},
   "cell_type": "markdown",
   "metadata": {},
   "source": [
    "                 Image 'cal plot collisions'"
   ]
  },
  {
   "attachments": {},
   "cell_type": "markdown",
   "metadata": {},
   "source": [
    "We see ..."
   ]
  },
  {
   "attachments": {},
   "cell_type": "markdown",
   "metadata": {},
   "source": [
    "                 Image 'cal plot injuries'"
   ]
  },
  {
   "attachments": {},
   "cell_type": "markdown",
   "metadata": {},
   "source": [
    "                 Image 'cal plot fatalities'"
   ]
  },
  {
   "attachments": {},
   "cell_type": "markdown",
   "metadata": {},
   "source": [
    "### Some conclusion"
   ]
  }
 ],
 "metadata": {
  "kernelspec": {
   "display_name": "Python 3",
   "language": "python",
   "name": "python3"
  },
  "language_info": {
   "name": "python",
   "version": "3.11.1"
  },
  "orig_nbformat": 4
 },
 "nbformat": 4,
 "nbformat_minor": 2
}
